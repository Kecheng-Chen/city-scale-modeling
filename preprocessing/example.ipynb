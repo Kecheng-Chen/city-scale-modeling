{
 "cells": [
  {
   "cell_type": "code",
   "execution_count": 1,
   "id": "df49fa9e",
   "metadata": {},
   "outputs": [],
   "source": [
    "# import sys\n",
    "# sys.path.insert(1, 'D:/berkeley_campus/city-scale-modeling/preprocessing')\n",
    "name_list = ['Office', 'Retail', 'Residential', 'Other/Unknown', 'Residential', 'Residential', 'Residential', 'Residential', \\\n",
    " 'Residential', 'Residential', 'Residential'] \n",
    "area_list = [0.0, 2000.0, 2092.0, 12000.0, 5704.0, 2484.0, 3227.0, 3001.0, 3686.0, 2556.0, 1663.78168077] \n",
    "year_list = [1939, 1935, 1955, 1944, 1950, 1995, 1995, 2007, 2002, 1994, 1988]"
   ]
  },
  {
   "cell_type": "code",
   "execution_count": 2,
   "id": "dc056a67",
   "metadata": {},
   "outputs": [
    {
     "data": {
      "text/plain": [
       "13.483253193768299"
      ]
     },
     "execution_count": 2,
     "metadata": {},
     "output_type": "execute_result"
    }
   ],
   "source": [
    "from energy_read import length_generate\n",
    "length_generate(name_list,area_list,year_list)"
   ]
  },
  {
   "cell_type": "code",
   "execution_count": null,
   "id": "231d44b4",
   "metadata": {},
   "outputs": [],
   "source": []
  }
 ],
 "metadata": {
  "kernelspec": {
   "display_name": "Python 3 (ipykernel)",
   "language": "python",
   "name": "python3"
  },
  "language_info": {
   "codemirror_mode": {
    "name": "ipython",
    "version": 3
   },
   "file_extension": ".py",
   "mimetype": "text/x-python",
   "name": "python",
   "nbconvert_exporter": "python",
   "pygments_lexer": "ipython3",
   "version": "3.9.7"
  }
 },
 "nbformat": 4,
 "nbformat_minor": 5
}
