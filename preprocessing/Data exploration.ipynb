{
 "cells": [
  {
   "cell_type": "code",
   "execution_count": 1,
   "id": "5dae8306",
   "metadata": {},
   "outputs": [],
   "source": [
    "import glob\n",
    "import numpy as np\n",
    "import pandas as pd\n",
    "import json\n",
    "import fnmatch\n",
    "import matplotlib.pyplot as plt"
   ]
  },
  {
   "cell_type": "code",
   "execution_count": 20,
   "id": "b0c8ee37",
   "metadata": {},
   "outputs": [
    {
     "name": "stdout",
     "output_type": "stream",
     "text": [
      "../loads 3A\\FullServiceRestaurant-90.1-2004-3A.mos\n",
      "../loads 3A\\FullServiceRestaurant-90.1-2007-3A.mos\n",
      "../loads 3A\\FullServiceRestaurant-90.1-2010-3A.mos\n",
      "../loads 3A\\FullServiceRestaurant-90.1-2013-3A.mos\n",
      "../loads 3A\\FullServiceRestaurant-DOE_Ref_1980-2004-3A.mos\n",
      "../loads 3A\\FullServiceRestaurant-DOE_Ref_Pre-1980-3A.mos\n",
      "../loads 3A\\HighriseApartment-90.1-2004-3A.mos\n",
      "../loads 3A\\HighriseApartment-90.1-2007-3A.mos\n",
      "../loads 3A\\HighriseApartment-90.1-2010-3A.mos\n",
      "../loads 3A\\Hospital-90.1-2004-3A.mos\n",
      "../loads 3A\\Hospital-90.1-2007-3A.mos\n",
      "../loads 3A\\Hospital-90.1-2010-3A.mos\n",
      "../loads 3A\\Hospital-90.1-2013-3A.mos\n",
      "../loads 3A\\Hospital-DOE_Ref_1980-2004-3A.mos\n",
      "../loads 3A\\Hospital-DOE_Ref_Pre-1980-3A.mos\n",
      "../loads 3A\\LargeHotel-90.1-2004-3A.mos\n",
      "../loads 3A\\LargeHotel-90.1-2007-3A.mos\n",
      "../loads 3A\\LargeHotel-90.1-2010-3A.mos\n",
      "../loads 3A\\LargeHotel-90.1-2013-3A.mos\n",
      "../loads 3A\\LargeHotel-DOE_Ref_1980-2004-3A.mos\n",
      "../loads 3A\\LargeHotel-DOE_Ref_Pre-1980-3A.mos\n",
      "../loads 3A\\LargeOffice-90.1-2004-3A.mos\n",
      "../loads 3A\\LargeOffice-90.1-2007-3A.mos\n",
      "../loads 3A\\LargeOffice-90.1-2010-3A.mos\n",
      "../loads 3A\\LargeOffice-90.1-2013-3A.mos\n",
      "../loads 3A\\LargeOffice-DOE_Ref_1980-2004-3A.mos\n",
      "../loads 3A\\LargeOffice-DOE_Ref_Pre-1980-3A.mos\n",
      "../loads 3A\\MediumOffice-90.1-2004-3A.mos\n",
      "../loads 3A\\MediumOffice-90.1-2007-3A.mos\n",
      "../loads 3A\\MediumOffice-90.1-2010-3A.mos\n",
      "../loads 3A\\MediumOffice-90.1-2013-3A.mos\n",
      "../loads 3A\\MediumOffice-DOE_Ref_1980-2004-3A.mos\n",
      "../loads 3A\\MediumOffice-DOE_Ref_Pre-1980-3A.mos\n",
      "../loads 3A\\MidriseApartment-90.1-2004-3A.mos\n",
      "../loads 3A\\MidriseApartment-90.1-2007-3A.mos\n",
      "../loads 3A\\MidriseApartment-90.1-2010-3A.mos\n",
      "../loads 3A\\MidriseApartment-90.1-2013-3A.mos\n",
      "../loads 3A\\MidriseApartment-DOE_Ref_1980-2004-3A.mos\n",
      "../loads 3A\\MidriseApartment-DOE_Ref_Pre-1980-3A.mos\n",
      "../loads 3A\\PrimarySchool-90.1-2004-3A.mos\n",
      "../loads 3A\\PrimarySchool-90.1-2007-3A.mos\n",
      "../loads 3A\\PrimarySchool-90.1-2010-3A.mos\n",
      "../loads 3A\\PrimarySchool-90.1-2013-3A.mos\n",
      "../loads 3A\\PrimarySchool-DOE_Ref_1980-2004-3A.mos\n",
      "../loads 3A\\PrimarySchool-DOE_Ref_Pre-1980-3A.mos\n",
      "../loads 3A\\QuickServiceRestaurant-90.1-2004-3A.mos\n",
      "../loads 3A\\QuickServiceRestaurant-90.1-2007-3A.mos\n",
      "../loads 3A\\QuickServiceRestaurant-90.1-2010-3A.mos\n",
      "../loads 3A\\QuickServiceRestaurant-90.1-2013-3A.mos\n",
      "../loads 3A\\QuickServiceRestaurant-DOE_Ref_1980-2004-3A.mos\n",
      "../loads 3A\\QuickServiceRestaurant-DOE_Ref_Pre-1980-3A.mos\n",
      "../loads 3A\\RetailStandalone-90.1-2004-3A.mos\n",
      "../loads 3A\\RetailStandalone-90.1-2007-3A.mos\n",
      "../loads 3A\\RetailStandalone-90.1-2010-3A.mos\n",
      "../loads 3A\\RetailStandalone-90.1-2013-3A.mos\n",
      "../loads 3A\\RetailStripmall-90.1-2004-3A.mos\n",
      "../loads 3A\\RetailStripmall-90.1-2007-3A.mos\n",
      "../loads 3A\\RetailStripmall-90.1-2010-3A.mos\n",
      "../loads 3A\\RetailStripmall-90.1-2013-3A.mos\n",
      "../loads 3A\\RetailStripmall-DOE_Ref_1980-2004-3A.mos\n",
      "../loads 3A\\RetailStripmall-DOE_Ref_Pre-1980-3A.mos\n",
      "../loads 3A\\SecondarySchool-90.1-2004-3A.mos\n",
      "../loads 3A\\SecondarySchool-90.1-2007-3A.mos\n",
      "../loads 3A\\SecondarySchool-90.1-2010-3A.mos\n",
      "../loads 3A\\SecondarySchool-90.1-2013-3A.mos\n",
      "../loads 3A\\SecondarySchool-DOE_Ref_1980-2004-3A.mos\n",
      "../loads 3A\\SecondarySchool-DOE_Ref_Pre-1980-3A.mos\n",
      "../loads 3A\\SmallHotel-DOE_Ref_1980-2004-3A.mos\n",
      "../loads 3A\\SmallHotel-DOE_Ref_Pre-1980-3A.mos\n",
      "../loads 3A\\SmallOffice-90.1-2004-3A.mos\n",
      "../loads 3A\\SmallOffice-90.1-2007-3A.mos\n",
      "../loads 3A\\SmallOffice-90.1-2010-3A.mos\n",
      "../loads 3A\\SmallOffice-90.1-2013-3A.mos\n",
      "../loads 3A\\SmallOffice-DOE_Ref_1980-2004-3A.mos\n",
      "../loads 3A\\SmallOffice-DOE_Ref_Pre-1980-3A.mos\n",
      "../loads 3A\\Warehouse-90.1-2004-3A.mos\n",
      "../loads 3A\\Warehouse-90.1-2007-3A.mos\n",
      "../loads 3A\\Warehouse-90.1-2010-3A.mos\n",
      "../loads 3A\\Warehouse-90.1-2013-3A.mos\n",
      "../loads 3A\\Warehouse-DOE_Ref_1980-2004-3A.mos\n",
      "../loads 3A\\Warehouse-DOE_Ref_Pre-1980-3A.mos\n",
      "Total 81 files\n"
     ]
    }
   ],
   "source": [
    "list1=glob.glob(\"../loads 3A/*.mos\")\n",
    "index=0\n",
    "for file1 in list1:\n",
    "    index=index+1\n",
    "    print(file1)\n",
    "print(\"Total \"+str(index)+\" files\")"
   ]
  },
  {
   "cell_type": "code",
   "execution_count": 21,
   "id": "595aa2f3",
   "metadata": {},
   "outputs": [
    {
     "data": {
      "text/plain": [
       "array(['FullServiceRestaurant', 'HighriseApartment', 'Hospital',\n",
       "       'LargeHotel', 'LargeOffice', 'MediumOffice', 'MidriseApartment',\n",
       "       'PrimarySchool', 'QuickServiceRestaurant', 'RetailStandalone',\n",
       "       'RetailStripmall', 'SecondarySchool', 'SmallHotel', 'SmallOffice',\n",
       "       'Warehouse'], dtype='<U22')"
      ]
     },
     "execution_count": 21,
     "metadata": {},
     "output_type": "execute_result"
    }
   ],
   "source": [
    "def unique(list_temp):\n",
    "    x = np.array(list_temp)\n",
    "    return np.unique(x)\n",
    "\n",
    "name_list=[]\n",
    "for file1 in list1:\n",
    "    name_list.append(file1[12:].split(\"-\")[0])\n",
    "unique(name_list)"
   ]
  },
  {
   "cell_type": "code",
   "execution_count": 4,
   "id": "9509db36",
   "metadata": {},
   "outputs": [
    {
     "name": "stdout",
     "output_type": "stream",
     "text": [
      "{'RetailStripmall': 2090.3175, 'FullServiceRestaurant': 510.9665, 'Warehouse': 4835.136635, 'SecondarySchool': 19592.034961, 'LargeHotel': 11345.31436, 'SmallHotel': 4013.4096, 'MidriseApartment': 3134.54722, 'QuickServiceRestaurant': 232.2575, 'PrimarySchool': 6871.10588, 'RetailStandalone': 2319.044686, 'HighriseApartment': 7836.469042250015, 'MediumOffice': 4982.202084, 'SmallOffice': 510.9665, 'Hospital': 22422.231953, 'LargeOffice': 46320.320964}\n"
     ]
    }
   ],
   "source": [
    "building_name=[\n",
    "'RetailStripmall',\n",
    "'FullServiceRestaurant',\n",
    "'Warehouse',\n",
    "'SecondarySchool',\n",
    "'LargeHotel',\n",
    "'SmallHotel',\n",
    "'MidriseApartment',\n",
    "'QuickServiceRestaurant',\n",
    "'PrimarySchool',\n",
    "'RetailStandalone',\n",
    "'HighriseApartment',\n",
    "'MediumOffice',\n",
    "'SmallOffice',\n",
    "'Hospital',\n",
    "'LargeOffice'\n",
    "]\n",
    "building_area=np.array([22500,5500,52045,210887,122120,43200,33740,2500,73960,24962,7836.48*10.7639,53628,5500,241351,498588])*0.092903\n",
    "building_area=building_area.tolist()\n",
    "building_dict=dict(zip(building_name,building_area))\n",
    "print(building_dict)"
   ]
  },
  {
   "cell_type": "code",
   "execution_count": 5,
   "id": "9e757a25",
   "metadata": {},
   "outputs": [
    {
     "name": "stdout",
     "output_type": "stream",
     "text": [
      "510.9665\n",
      "7836.469042250015\n",
      "22422.231953\n",
      "11345.31436\n",
      "46320.320964\n",
      "4982.202084\n",
      "3134.54722\n",
      "6871.10588\n",
      "232.2575\n",
      "2319.044686\n",
      "2090.3175\n",
      "19592.034961\n",
      "4013.4096\n",
      "510.9665\n",
      "4835.136635\n"
     ]
    }
   ],
   "source": [
    "name_list2=unique(name_list)\n",
    "for i in range(len(name_list2)):\n",
    "    print(building_dict.get(name_list2[i]))"
   ]
  },
  {
   "cell_type": "code",
   "execution_count": 28,
   "id": "3f842a8c",
   "metadata": {},
   "outputs": [],
   "source": [
    "for i in range(len(list1)):\n",
    "    df = pd.read_csv(list1[i], sep=\";\", skiprows=np.arange(17).tolist(), header=None, names=[\"time\", \"SH(W)\", \"SC(W)\", \"DHW(W)\"])\n",
    "    name = list1[i][12:].split(\"-\")[0]\n",
    "    area = building_dict.get(name)\n",
    "    df[\"SH(W/m2)\"]=df[\"SH(W)\"]/area\n",
    "    df[\"SC(W/m2)\"]=df[\"SC(W)\"]/area\n",
    "    df.to_csv('../base loads/'+list1[i][12:-4]+'.csv', sep='\\t')"
   ]
  },
  {
   "cell_type": "code",
   "execution_count": null,
   "id": "8fd41f43",
   "metadata": {},
   "outputs": [],
   "source": []
  },
  {
   "cell_type": "code",
   "execution_count": 16,
   "id": "b6c94bb9",
   "metadata": {},
   "outputs": [],
   "source": [
    "BIM=pd.read_csv('../berkeley/Berkeley_UrbanSim.csv') \n",
    "with open('../berkeley/TypeID.json') as json_file:\n",
    "    ID = json.load(json_file)"
   ]
  },
  {
   "cell_type": "code",
   "execution_count": 17,
   "id": "068c25fb",
   "metadata": {},
   "outputs": [
    {
     "data": {
      "text/plain": [
       "{0: 'Other/Unknown',\n",
       " 1: 'Residential',\n",
       " 2: 'Residential',\n",
       " 3: 'Residential',\n",
       " 4: 'Office',\n",
       " 5: 'Hotel',\n",
       " 6: 'School',\n",
       " 7: 'Industrial',\n",
       " 8: 'Industrial',\n",
       " 9: 'Industrial',\n",
       " 10: 'Retail',\n",
       " 11: 'Retail',\n",
       " 12: 'Residential',\n",
       " 13: 'Retail',\n",
       " 14: 'Office',\n",
       " 15: 'Parking',\n",
       " 16: 'Parking'}"
      ]
     },
     "execution_count": 17,
     "metadata": {},
     "output_type": "execute_result"
    }
   ],
   "source": [
    "index=[]\n",
    "btype=[]\n",
    "for i in range(len(ID)):\n",
    "    index.append(ID[i]['TypeId'])\n",
    "    btype.append(ID[i]['Occupancy'])\n",
    "id_dict=dict(zip(index,btype))\n",
    "id_dict"
   ]
  },
  {
   "cell_type": "code",
   "execution_count": 18,
   "id": "9abc04df",
   "metadata": {},
   "outputs": [
    {
     "data": {
      "text/html": [
       "<div>\n",
       "<style scoped>\n",
       "    .dataframe tbody tr th:only-of-type {\n",
       "        vertical-align: middle;\n",
       "    }\n",
       "\n",
       "    .dataframe tbody tr th {\n",
       "        vertical-align: top;\n",
       "    }\n",
       "\n",
       "    .dataframe thead th {\n",
       "        text-align: right;\n",
       "    }\n",
       "</style>\n",
       "<table border=\"1\" class=\"dataframe\">\n",
       "  <thead>\n",
       "    <tr style=\"text-align: right;\">\n",
       "      <th></th>\n",
       "      <th>ID</th>\n",
       "      <th>Area</th>\n",
       "      <th>Stories</th>\n",
       "      <th>Year Built</th>\n",
       "      <th>Type ID</th>\n",
       "      <th>Latitude</th>\n",
       "      <th>Longitude</th>\n",
       "    </tr>\n",
       "  </thead>\n",
       "  <tbody>\n",
       "    <tr>\n",
       "      <th>0</th>\n",
       "      <td>2904</td>\n",
       "      <td>0.0</td>\n",
       "      <td>1</td>\n",
       "      <td>1939</td>\n",
       "      <td>4</td>\n",
       "      <td>37.866114</td>\n",
       "      <td>-122.255944</td>\n",
       "    </tr>\n",
       "    <tr>\n",
       "      <th>1</th>\n",
       "      <td>2931</td>\n",
       "      <td>2000.0</td>\n",
       "      <td>1</td>\n",
       "      <td>1935</td>\n",
       "      <td>10</td>\n",
       "      <td>37.866025</td>\n",
       "      <td>-122.291478</td>\n",
       "    </tr>\n",
       "    <tr>\n",
       "      <th>2</th>\n",
       "      <td>3100</td>\n",
       "      <td>2092.0</td>\n",
       "      <td>2</td>\n",
       "      <td>1955</td>\n",
       "      <td>1</td>\n",
       "      <td>37.858314</td>\n",
       "      <td>-122.240140</td>\n",
       "    </tr>\n",
       "    <tr>\n",
       "      <th>3</th>\n",
       "      <td>2953</td>\n",
       "      <td>12000.0</td>\n",
       "      <td>2</td>\n",
       "      <td>1944</td>\n",
       "      <td>0</td>\n",
       "      <td>37.877161</td>\n",
       "      <td>-122.260828</td>\n",
       "    </tr>\n",
       "    <tr>\n",
       "      <th>4</th>\n",
       "      <td>2974</td>\n",
       "      <td>5704.0</td>\n",
       "      <td>2</td>\n",
       "      <td>1950</td>\n",
       "      <td>3</td>\n",
       "      <td>37.876771</td>\n",
       "      <td>-122.259673</td>\n",
       "    </tr>\n",
       "  </tbody>\n",
       "</table>\n",
       "</div>"
      ],
      "text/plain": [
       "     ID     Area  Stories  Year Built  Type ID   Latitude   Longitude\n",
       "0  2904      0.0        1        1939        4  37.866114 -122.255944\n",
       "1  2931   2000.0        1        1935       10  37.866025 -122.291478\n",
       "2  3100   2092.0        2        1955        1  37.858314 -122.240140\n",
       "3  2953  12000.0        2        1944        0  37.877161 -122.260828\n",
       "4  2974   5704.0        2        1950        3  37.876771 -122.259673"
      ]
     },
     "execution_count": 18,
     "metadata": {},
     "output_type": "execute_result"
    }
   ],
   "source": [
    "BIM.head()"
   ]
  },
  {
   "cell_type": "code",
   "execution_count": 25,
   "id": "dbff17bc",
   "metadata": {},
   "outputs": [
    {
     "data": {
      "text/plain": [
       "{'FullServiceRestaurant': [2004, 2007, 2010, 2013, 1993, 1980],\n",
       " 'HighriseApartment': [2004, 2007, 2010],\n",
       " 'Hospital': [2004, 2007, 2010, 2013, 1993, 1980],\n",
       " 'LargeHotel': [2004, 2007, 2010, 2013, 1993, 1980],\n",
       " 'LargeOffice': [2004, 2007, 2010, 2013, 1993, 1980],\n",
       " 'MediumOffice': [2004, 2007, 2010, 2013, 1993, 1980],\n",
       " 'MidriseApartment': [2004, 2007, 2010, 2013, 1993, 1980],\n",
       " 'PrimarySchool': [2004, 2007, 2010, 2013, 1993, 1980],\n",
       " 'QuickServiceRestaurant': [2004, 2007, 2010, 2013, 1993, 1980],\n",
       " 'RetailStandalone': [2004, 2007, 2010, 2013],\n",
       " 'RetailStripmall': [2004, 2007, 2010, 2013, 1993, 1980],\n",
       " 'SecondarySchool': [2004, 2007, 2010, 2013, 1993, 1980],\n",
       " 'SmallHotel': [1993, 1980],\n",
       " 'SmallOffice': [2004, 2007, 2010, 2013, 1993, 1980],\n",
       " 'Warehouse': [2004, 2007, 2010, 2013, 1993, 1980]}"
      ]
     },
     "execution_count": 25,
     "metadata": {},
     "output_type": "execute_result"
    }
   ],
   "source": [
    "name_dict={}\n",
    "for name in name_list: \n",
    "    name_dict[name]=[]\n",
    "for i in range(len(list1)):\n",
    "    name=list1[i][12:].split('-')[0]\n",
    "    name2=list1[i]\n",
    "    if 'DOE_Ref_Pre' in name2:\n",
    "        name_dict[name].append(1980)\n",
    "    elif 'DOE_Ref' in name2:\n",
    "        name_dict[name].append(1993)\n",
    "    else:\n",
    "        name_dict[name].append(int(list1[i][12:].split(\"-\")[2]))\n",
    "name_dict"
   ]
  },
  {
   "cell_type": "code",
   "execution_count": 23,
   "id": "52c207f4",
   "metadata": {},
   "outputs": [
    {
     "data": {
      "text/plain": [
       "'Warehouse'"
      ]
     },
     "execution_count": 23,
     "metadata": {},
     "output_type": "execute_result"
    }
   ],
   "source": [
    "name"
   ]
  },
  {
   "cell_type": "code",
   "execution_count": 56,
   "id": "2f0f62bd",
   "metadata": {},
   "outputs": [],
   "source": [
    "def load_generate(name_list,area_list_org,year_list):\n",
    "    area_list=area_list_org.copy()\n",
    "    def closest(lst, K):\n",
    "        lst = np.asarray(lst)\n",
    "        idx = (np.abs(lst - K)).argmin()\n",
    "        return idx\n",
    "    def which_school(area):\n",
    "        area_list=[73960,210900]\n",
    "        name_list=['PrimarySchool','SecondarySchool']\n",
    "        return name_list[closest(area_list, area)]\n",
    "    def which_hotel(area):\n",
    "        area_list=[43200,122132]\n",
    "        name_list=['SmallHotel','LargeHotel']\n",
    "        return name_list[closest(area_list, area)]\n",
    "    def which_office(area):\n",
    "        area_list=[5500,53600,498600]\n",
    "        name_list=['SmallOffice','MediumOffice','LargeOffice']\n",
    "        return name_list[closest(area_list, area)]\n",
    "    def which_residential(area):\n",
    "        area_list=[33700,84360]\n",
    "        name_list=['MidriseApartment','HighriseApartment']\n",
    "        return name_list[closest(area_list, area)]\n",
    "    name_dict={'Retail':'RetailStandalone','Industrial':'Warehouse','School':which_school,'Hotel':which_hotel,\\\n",
    "               'Office':which_office,'Residential':which_residential}\n",
    "    year_dict={'FullServiceRestaurant': [2004, 2007, 2010, 2013, 1993, 1980],\n",
    " 'HighriseApartment': [2004, 2007, 2010],\n",
    " 'Hospital': [2004, 2007, 2010, 2013, 1993, 1980],\n",
    " 'LargeHotel': [2004, 2007, 2010, 2013, 1993, 1980],\n",
    " 'LargeOffice': [2004, 2007, 2010, 2013, 1993, 1980],\n",
    " 'MediumOffice': [2004, 2007, 2010, 2013, 1993, 1980],\n",
    " 'MidriseApartment': [2004, 2007, 2010, 2013, 1993, 1980],\n",
    " 'PrimarySchool': [2004, 2007, 2010, 2013, 1993, 1980],\n",
    " 'QuickServiceRestaurant': [2004, 2007, 2010, 2013, 1993, 1980],\n",
    " 'RetailStandalone': [2004, 2007, 2010, 2013],\n",
    " 'RetailStripmall': [2004, 2007, 2010, 2013, 1993, 1980],\n",
    " 'SecondarySchool': [2004, 2007, 2010, 2013, 1993, 1980],\n",
    " 'SmallHotel': [1993, 1980],\n",
    " 'SmallOffice': [2004, 2007, 2010, 2013, 1993, 1980],\n",
    " 'Warehouse': [2004, 2007, 2010, 2013, 1993, 1980]}\n",
    "    new_name_list=[]\n",
    "    new_year_list=[]\n",
    "    index=0\n",
    "    for name in name_list:\n",
    "        if name=='Other/Unknown' or name=='Parking':\n",
    "            new_name_list.append(None)\n",
    "            area_list[index]=None\n",
    "        else:\n",
    "            if type(name_dict[name])==str:\n",
    "                new_name_list.append(name_dict[name])\n",
    "            else:\n",
    "                new_name_list.append(name_dict[name](area_list[index]))\n",
    "        index+=1\n",
    "    index=0\n",
    "    \n",
    "    for new_name in new_name_list:\n",
    "        if new_name==None:\n",
    "            new_year_list.append(None)\n",
    "        else:\n",
    "            new_year_list.append(year_dict[new_name][closest(year_dict[new_name],year_list[index])])\n",
    "        index+=1\n",
    "    \n",
    "    list1=glob.glob(\"../base loads/*.csv\")\n",
    "    load_array=np.zeros((1,8760))\n",
    "    load_array2=np.zeros((1,8760))\n",
    "    while None in new_name_list:\n",
    "        new_name_list.remove(None)\n",
    "        new_year_list.remove(None)\n",
    "        area_list.remove(None)\n",
    "    for file1 in list1:\n",
    "        current_load=pd.read_csv(file1,sep=\"\\t\",index_col=0)['SH(W/m2)'].values\n",
    "        current_load2=pd.read_csv(file1,sep=\"\\t\",index_col=0)['SC(W/m2)'].values\n",
    "        remove_list=[]\n",
    "        for i in range(len(new_name_list)):\n",
    "            if (new_year_list[i]>2003 and fnmatch.fnmatch(file1,'*'+new_name_list[i]+'*'+str(new_year_list[i])+'*')) or\\\n",
    "            (new_year_list[i]==1993 and fnmatch.fnmatch(file1,'*'+new_name_list[i]+'*DOE_Ref_1980-2004*')) or\\\n",
    "            (new_year_list[i]==1980 and fnmatch.fnmatch(file1,'*'+new_name_list[i]+'*DOE_Ref_Pre-1980*')):\n",
    "                load_array+=current_load*area_list[i]\n",
    "                load_array2+=current_load2*area_list[i]\n",
    "                remove_list.append(i)\n",
    "        for i in range(len(remove_list)):\n",
    "            new_name_list.pop(remove_list[len(remove_list)-i-1])\n",
    "            new_year_list.pop(remove_list[len(remove_list)-i-1])\n",
    "            area_list.pop(remove_list[len(remove_list)-i-1])\n",
    "        if new_name_list==[]:\n",
    "            break\n",
    "    if new_name_list==[]:\n",
    "        print(\"Correct\")\n",
    "    else:\n",
    "        print(\"Error\")\n",
    "    time_array=pd.read_csv(file1,sep=\"\\t\",index_col=0)['time'].values\n",
    "    return time_array,load_array,load_array2"
   ]
  },
  {
   "cell_type": "code",
   "execution_count": 62,
   "id": "a2af4fed",
   "metadata": {},
   "outputs": [
    {
     "name": "stderr",
     "output_type": "stream",
     "text": [
      "C:\\Users\\m1371\\AppData\\Local\\Temp/ipykernel_14396/4112830764.py:2: SettingWithCopyWarning: \n",
      "A value is trying to be set on a copy of a slice from a DataFrame.\n",
      "Try using .loc[row_indexer,col_indexer] = value instead\n",
      "\n",
      "See the caveats in the documentation: https://pandas.pydata.org/pandas-docs/stable/user_guide/indexing.html#returning-a-view-versus-a-copy\n",
      "  BIM_test['Type']=BIM_test['Type ID'].map(id_dict)\n"
     ]
    }
   ],
   "source": [
    "BIM_test=BIM.loc[400:420]\n",
    "BIM_test['Type']=BIM_test['Type ID'].map(id_dict)"
   ]
  },
  {
   "cell_type": "code",
   "execution_count": 63,
   "id": "d02a9cb2",
   "metadata": {},
   "outputs": [
    {
     "name": "stdout",
     "output_type": "stream",
     "text": [
      "Correct\n"
     ]
    },
    {
     "data": {
      "image/png": "[encoded data removed]",
      "text/plain": [
       "<Figure size 432x288 with 1 Axes>"
      ]
     },
     "metadata": {
      "needs_background": "light"
     },
     "output_type": "display_data"
    }
   ],
   "source": [
    "name_list=BIM_test.Type.values.tolist()\n",
    "area_list=BIM_test.Area.values.tolist()\n",
    "year_list=BIM_test['Year Built'].values.tolist()\n",
    "time_array,load_array,load_array2=load_generate(name_list,area_list,year_list)\n",
    "plt.plot(load_array[0])\n",
    "plt.plot(load_array2[0])\n",
    "plt.show()"
   ]
  },
  {
   "cell_type": "code",
   "execution_count": 64,
   "id": "5733a20f",
   "metadata": {},
   "outputs": [
    {
     "name": "stdout",
     "output_type": "stream",
     "text": [
      "['Residential', 'Residential', 'Residential', 'Residential', 'Residential', 'Residential', 'Residential', 'Residential', 'Other/Unknown', 'Residential', 'Residential', 'Residential', 'Residential', 'Residential', 'Residential', 'Residential', 'Residential', 'Residential', 'Residential', 'Parking', 'Residential'] [1958.0, 1945.0, 3327.56336154, 1413.0, 2605.0, 3964.0, 4112.0, 2744.0, 7600.0, 2428.0, 2662.0, 4092.0, 6983.0, 2276.0, 1391.0, 992.0, 1886.0, 4944.0, 734.0, 3547.0, 2570.0] [1963, 1949, 1939, 1949, 1907, 1908, 1909, 1911, 1906, 1896, 1886, 1886, 1946, 1917, 1902, 1902, 1935, 1913, 1912, 1930, 1912]\n"
     ]
    }
   ],
   "source": [
    "print(name_list,area_list,year_list)"
   ]
  },
  {
   "cell_type": "code",
   "execution_count": 65,
   "id": "ba454ea3",
   "metadata": {},
   "outputs": [],
   "source": [
    "from energy_read import length,length_generate"
   ]
  },
  {
   "cell_type": "code",
   "execution_count": 66,
   "id": "3f46c30c",
   "metadata": {},
   "outputs": [
    {
     "data": {
      "image/png": "[encoded data removed]",
      "text/plain": [
       "<Figure size 432x288 with 1 Axes>"
      ]
     },
     "metadata": {
      "needs_background": "light"
     },
     "output_type": "display_data"
    }
   ],
   "source": [
    "net=load_array[0]*6.5/5.5+load_array2[0]*2.5/3.5\n",
    "d = {'time': time_array, 'net': -net/1000}\n",
    "df = pd.DataFrame(data=d)\n",
    "df.plot(x='time',y='net')\n",
    "df=df.set_index('time')"
   ]
  },
  {
   "cell_type": "code",
   "execution_count": 67,
   "id": "2de1b6ba",
   "metadata": {},
   "outputs": [
    {
     "data": {
      "text/plain": [
       "58.32459304748115"
      ]
     },
     "execution_count": 67,
     "metadata": {},
     "output_type": "execute_result"
    }
   ],
   "source": [
    "length(df,6,False)"
   ]
  },
  {
   "cell_type": "code",
   "execution_count": 16,
   "id": "cbefb793",
   "metadata": {},
   "outputs": [
    {
     "data": {
      "text/plain": [
       "13.483253193768299"
      ]
     },
     "execution_count": 16,
     "metadata": {},
     "output_type": "execute_result"
    }
   ],
   "source": [
    "length_generate(name_list,area_list,year_list)"
   ]
  },
  {
   "cell_type": "code",
   "execution_count": null,
   "id": "d631371a",
   "metadata": {},
   "outputs": [],
   "source": []
  }
 ],
 "metadata": {
  "kernelspec": {
   "display_name": "Python 3 (ipykernel)",
   "language": "python",
   "name": "python3"
  },
  "language_info": {
   "codemirror_mode": {
    "name": "ipython",
    "version": 3
   },
   "file_extension": ".py",
   "mimetype": "text/x-python",
   "name": "python",
   "nbconvert_exporter": "python",
   "pygments_lexer": "ipython3",
   "version": "3.9.7"
  }
 },
 "nbformat": 4,
 "nbformat_minor": 5
}
