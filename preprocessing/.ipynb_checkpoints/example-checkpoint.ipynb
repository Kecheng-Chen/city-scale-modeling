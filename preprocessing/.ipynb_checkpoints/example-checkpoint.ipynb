{
 "cells": [
  {
   "cell_type": "code",
   "execution_count": 1,
   "id": "eb94bfe2",
   "metadata": {},
   "outputs": [],
   "source": [
    "import pandas as pd\n",
    "import json"
   ]
  },
  {
   "cell_type": "code",
   "execution_count": 2,
   "id": "df49fa9e",
   "metadata": {},
   "outputs": [],
   "source": [
    "# import sys\n",
    "# sys.path.insert(1, 'D:/berkeley_campus/city-scale-modeling/preprocessing')\n",
    "BIM=pd.read_csv('../berkeley/Berkeley_UrbanSim.csv')\n",
    "with open('../berkeley/TypeID.json') as json_file:\n",
    "    ID = json.load(json_file)\n",
    "index=[]\n",
    "btype=[]\n",
    "for i in range(len(ID)):\n",
    "    index.append(ID[i]['TypeId'])\n",
    "    btype.append(ID[i]['Occupancy'])\n",
    "id_dict=dict(zip(index,btype))"
   ]
  },
  {
   "cell_type": "code",
   "execution_count": 3,
   "id": "25042052",
   "metadata": {},
   "outputs": [
    {
     "name": "stdout",
     "output_type": "stream",
     "text": [
      "{0: 'Other/Unknown', 1: 'Residential', 2: 'Residential', 3: 'Residential', 4: 'Office', 5: 'Hotel', 6: 'School', 7: 'Industrial', 8: 'Industrial', 9: 'Industrial', 10: 'Retail', 11: 'Retail', 12: 'Residential', 13: 'Retail', 14: 'Office', 15: 'Parking', 16: 'Parking'}\n"
     ]
    }
   ],
   "source": [
    "print(id_dict)"
   ]
  },
  {
   "cell_type": "code",
   "execution_count": 4,
   "id": "5fa7d4c6",
   "metadata": {},
   "outputs": [
    {
     "name": "stderr",
     "output_type": "stream",
     "text": [
      "C:\\Users\\m1371\\AppData\\Local\\Temp/ipykernel_21436/4121632761.py:2: SettingWithCopyWarning: \n",
      "A value is trying to be set on a copy of a slice from a DataFrame.\n",
      "Try using .loc[row_indexer,col_indexer] = value instead\n",
      "\n",
      "See the caveats in the documentation: https://pandas.pydata.org/pandas-docs/stable/user_guide/indexing.html#returning-a-view-versus-a-copy\n",
      "  BIM_test['Type']=BIM_test['Type ID'].map(id_dict)\n"
     ]
    }
   ],
   "source": [
    "BIM_test=BIM.loc[10:20]\n",
    "BIM_test['Type']=BIM_test['Type ID'].map(id_dict)"
   ]
  },
  {
   "cell_type": "code",
   "execution_count": 5,
   "id": "7073849f",
   "metadata": {},
   "outputs": [],
   "source": [
    "name_list=BIM_test.Type.values.tolist()\n",
    "area_list=BIM_test.Area.values.tolist()\n",
    "year_list=BIM_test['Year Built'].values.tolist()"
   ]
  },
  {
   "cell_type": "code",
   "execution_count": 6,
   "id": "2783a303",
   "metadata": {},
   "outputs": [
    {
     "name": "stdout",
     "output_type": "stream",
     "text": [
      "['Residential', 'Residential', 'Residential', 'Residential', 'Residential', 'Residential', 'Residential', 'Residential', 'Residential', 'Residential', 'Residential']\n"
     ]
    }
   ],
   "source": [
    "print(name_list)"
   ]
  },
  {
   "cell_type": "code",
   "execution_count": 7,
   "id": "dc056a67",
   "metadata": {},
   "outputs": [
    {
     "name": "stdout",
     "output_type": "stream",
     "text": [
      "Correct\n"
     ]
    },
    {
     "data": {
      "text/plain": [
       "50.11660072577354"
      ]
     },
     "execution_count": 7,
     "metadata": {},
     "output_type": "execute_result"
    }
   ],
   "source": [
    "from energy_read import length_generate\n",
    "length_generate(name_list,area_list,year_list)/150"
   ]
  },
  {
   "cell_type": "code",
   "execution_count": null,
   "id": "231d44b4",
   "metadata": {},
   "outputs": [],
   "source": []
  }
 ],
 "metadata": {
  "kernelspec": {
   "display_name": "Python 3 (ipykernel)",
   "language": "python",
   "name": "python3"
  },
  "language_info": {
   "codemirror_mode": {
    "name": "ipython",
    "version": 3
   },
   "file_extension": ".py",
   "mimetype": "text/x-python",
   "name": "python",
   "nbconvert_exporter": "python",
   "pygments_lexer": "ipython3",
   "version": "3.9.7"
  }
 },
 "nbformat": 4,
 "nbformat_minor": 5
}
